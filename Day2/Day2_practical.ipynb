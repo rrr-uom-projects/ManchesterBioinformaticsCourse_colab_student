{
  "cells": [
    {
      "cell_type": "markdown",
      "metadata": {
        "collapsed": true,
        "id": "XXWZttY_on1b"
      },
      "source": [
        "# Image processing in Python: assignment\n",
        "This assignment is the first part of the assessed assignments that you need to complete. In this assignment we will be writing some software to do manual image registration using the keyboard interface. Everything you need should be in the repository.\n",
        "\n",
        "The code we write today will form the basis of the code we will write tomorrow, where we automate the registration process, so make sure it is good and well commented!\n",
        "\n",
        "I have added the tasks from the assignmentPart1Instructions document to this notebook with cells in-between where you can fill in the code.\n",
        "\n",
        "## First up!\n",
        "Make a copy of this notebook and save it in your own Google Drive. (File -> Save a copy in Drive)"
      ]
    },
    {
      "cell_type": "markdown",
      "metadata": {
        "id": "xX2vCJFQon1e"
      },
      "source": [
        "## Part 0\n",
        "\n",
        "Like yesterday:\n",
        "\n",
        "Go to the link: https://drive.google.com/drive/folders/1tZJQV0d0zktA1v-y-fvJiMAFN14mP9SH?usp=sharing and click on \"add the shortcut to My Drive\" in the drop down menu. This will add the shortcut to your Google Drive (if you hadn't already added it for Day 1's practicals)"
      ]
    },
    {
      "cell_type": "code",
      "execution_count": null,
      "metadata": {
        "id": "An0sICytqQx9"
      },
      "outputs": [],
      "source": [
        "# now run this line! It'll copy the data required for today's practical from your google drive to this colab instance.\n",
        "from google.colab import drive\n",
        "drive.mount('/content/drive', force_remount=True)\n",
        "%cp -r drive/MyDrive/CBRP_2023_python_course_data/Day2/* ."
      ]
    },
    {
      "cell_type": "markdown",
      "metadata": {
        "id": "xoksyJLYNQNK"
      },
      "source": [
        "## Part 1\n",
        "I.\tWrite some useful information like a title and your names in some comments at the top of the code\n",
        "\n",
        "II.\tImport the modules you will need, these include matplotlib.pyplot, numpy and imread from skimage.io\n",
        "\n",
        "III.\tLoad the file “CT_1.bmp” and display it\n",
        "\n",
        "IV.\tPlot a histogram of the image\n",
        "\n",
        "V.\tWrite a function that displays the CT image with different window levels. The input variables should be the window and the level.\n",
        "\n",
        "VI.\tIdentify which parts of the histogram relate to which parts of the image. Record this information in some comments in your code."
      ]
    },
    {
      "cell_type": "code",
      "execution_count": null,
      "metadata": {
        "id": "8T8cpcTqNfK8"
      },
      "outputs": [],
      "source": [
        "# title\n",
        "# name\n",
        "\n",
        "# imports\n",
        "import numpy as np\n",
        "import matplotlib.pyplot as plt\n",
        "from skimage import io\n",
        "\n",
        "# function to display the CT image with different window levels\n",
        "def yourfunction(window, level, fig, im):\n",
        "    #Calculate min and max intensity values from window and level\n",
        "    min_win=level-window/2\n",
        "    max_win=level+window/2\n",
        "    print(min_win,max_win)\n",
        "\n",
        "    im_win=im.copy()\n",
        "    print(im_win.min(),im_win.max())\n",
        "    im_win[im<min_win]=min_win\n",
        "    print(im_win.min(),im_win.max())\n",
        "    im_win[im>max_win]=max_win\n",
        "    print(im_win.min(),im_win.max())\n",
        "    im_win=(im_win-min_win)/window\n",
        "\n",
        "    ax = fig.add_subplot(223)\n",
        "    ax2 = fig.add_subplot(224)\n",
        "\n",
        "    ax.imshow(im_win,cmap='gray')\n",
        "    ax2.hist(im_win.flatten(),bins=100)\n",
        "\n",
        "#Load image and display it and its histogram\n",
        "im = io.imread(\"CT_1.bmp\",as_gray=True)\n",
        "\n",
        "fig = plt.figure()\n",
        "\n",
        "ax = fig.add_subplot(221)\n",
        "ax2 = fig.add_subplot(222)\n",
        "\n",
        "ax.imshow(im,cmap='gray')\n",
        "ax2.hist(im.flatten(),bins=100)\n",
        "\n",
        "yourfunction(0.1,0.75,fig,im)\n",
        "\n"
      ]
    },
    {
      "cell_type": "markdown",
      "metadata": {
        "id": "Dud2KHlcGFix"
      },
      "source": [
        "Save your final histogram as a .png image. Then copy it to your google drive using:"
      ]
    },
    {
      "cell_type": "code",
      "execution_count": null,
      "metadata": {
        "id": "-hHapy2fGFix"
      },
      "outputs": [],
      "source": [
        "# you will need to change the file name (currently \"histogram.png\") to match your image's file name\n",
        "fig.savefig(\"finalFigure.png\")\n",
        "%cp finalFigure.png drive/MyDrive/"
      ]
    },
    {
      "cell_type": "markdown",
      "metadata": {
        "id": "8dEFekzbon1f"
      },
      "source": [
        "## Part 2\n",
        "VII.\tRestart the runtime (Runtime -> Restart runtime, or Ctrl+M .), this will ensure the variables from the previous code block are deleted.\n",
        "\n",
        "VIII.\tWrite some useful information like a title and your names in some comments at the top of the code.\n",
        "\n",
        "IX.\tImport the modules that you will need. You’ll need matplotlib.pyplot and numpy, but also imread from skimage.io, and interpolation and rotate from scipy.ndimage\n",
        "\n",
        "X.\tLoad the images “lungs.jpg” and “lungs2.jpg”\n",
        "\n",
        "XI.\tDisplay the images\n",
        "\n",
        "XII.\tMake a plot where you can see both images on the same axes using transparency.\n",
        "\n",
        "We will keep one of the images fixed (lungs.jpg) and make one of them able to move (lungs2.jpg). So that you can reference this moving image, specify a name for the axis when you plot it, e.g. *floating = ax.imshow(...)*\n",
        "\n",
        "Later you can use *floating.set_data(...)* to update the image in these axes to something else (like the image after we have manipulated it)\n",
        "\n",
        "XIII.\tWrite a function that shifts your second image given an input argument called shifts which is a list of shifts horizontally and vertically. When your function is called, the command *shiftImage([10,20])* should shift the image down 10 pixels and to the right 20 pixels.\n",
        "\n",
        "A skeleton implementation of the shiftIMage funtion is given to you below. By defining image2 as global, changes we make to it inside the function have an effect outside the function too.\n",
        "\n",
        "If you called the axes showing the second image “floating”, then the figure will be updated with the second to last line.\n",
        "\n",
        "The last line will update the figure if it is already displayed.\n",
        "\n",
        "XIV.\tEvaluate your function by calling it. What does *shiftImage([10,20])* do?\n",
        "\n",
        "XV.\tWhat are the shifts needed to align the images? Make a note of them in some comments.\n",
        "\n",
        "XVI.\tModify your code to include rotations. Load “lungs3.jpg” and use that as your floating image instead. What are the shifts/rotations required to align the images now?\n",
        "\n"
      ]
    },
    {
      "cell_type": "code",
      "execution_count": null,
      "metadata": {
        "collapsed": true,
        "id": "kBgQo4vDon1e"
      },
      "outputs": [],
      "source": [
        "# title\n",
        "# name\n",
        "\n",
        "# imports\n",
        "import numpy as np\n",
        "import matplotlib.pyplot as plt\n",
        "from skimage import io\n",
        "from skimage.transform import resize\n",
        "from scipy.ndimage import shift\n",
        "\n",
        "def shiftImage(im,shifts):\n",
        "    # your code here…\n",
        "    global shifted_image\n",
        "    print(im.shape)\n",
        "    shifted_image = shift(im, shifts, mode=\"nearest\")\n",
        "    floating.set_data(shifted_image)\n",
        "    fig.canvas.draw()\n",
        "\n",
        "im_lung1 = io.imread(\"lungs.jpg\")\n",
        "im_lung2 = io.imread(\"lungs2.jpg\")\n",
        "\n",
        "fig = plt.figure()\n",
        "\n",
        "ax = fig.add_subplot(221)\n",
        "ax2 = fig.add_subplot(222)\n",
        "ax3 = fig.add_subplot(223)\n",
        "\n",
        "ax.imshow(im_lung1)\n",
        "floating = ax2.imshow(im_lung2)\n",
        "\n",
        "shiftImage(im_lung2,[-20,-40,0])\n",
        "\n",
        "ax3.imshow(im_lung1, cmap=\"viridis_r\")\n",
        "ax3.imshow(shifted_image, alpha=0.5, cmap=\"magma_r\")\n"
      ]
    },
    {
      "cell_type": "code",
      "execution_count": null,
      "metadata": {
        "id": "7z0EG6vKQw5K"
      },
      "outputs": [],
      "source": [
        "shiftImage([10,20])"
      ]
    }
  ],
  "metadata": {
    "colab": {
      "provenance": []
    },
    "kernelspec": {
      "display_name": "base",
      "language": "python",
      "name": "python3"
    },
    "language_info": {
      "codemirror_mode": {
        "name": "ipython",
        "version": 3
      },
      "file_extension": ".py",
      "mimetype": "text/x-python",
      "name": "python",
      "nbconvert_exporter": "python",
      "pygments_lexer": "ipython3",
      "version": "3.7.1"
    },
    "vscode": {
      "interpreter": {
        "hash": "146895204c390315d0e73c4ea25335f5fcb1e6266618dfaddd5ff520976b1cda"
      }
    }
  },
  "nbformat": 4,
  "nbformat_minor": 0
}