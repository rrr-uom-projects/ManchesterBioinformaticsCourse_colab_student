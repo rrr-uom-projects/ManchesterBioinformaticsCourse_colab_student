{
 "metadata": {
  "language_info": {
   "codemirror_mode": {
    "name": "ipython",
    "version": 3
   },
   "file_extension": ".py",
   "mimetype": "text/x-python",
   "name": "python",
   "nbconvert_exporter": "python",
   "pygments_lexer": "ipython3",
   "version": "3.9.0-final"
  },
  "orig_nbformat": 2,
  "kernelspec": {
   "name": "python3",
   "display_name": "Python 3.9.0 64-bit",
   "metadata": {
    "interpreter": {
     "hash": "63fd5069d213b44bf678585dea6b12cceca9941eaf7f819626cde1f2670de90d"
    }
   }
  }
 },
 "nbformat": 4,
 "nbformat_minor": 2,
 "cells": [
  {
   "source": [
    "This notebook accompanies the \"Breaking Python\" lecture, and has the same code snippets as are shown there. You can try to fix the code here and run it to make sure it works. There are also some extra bits for you to try that are not covered in the lecture.\n",
    "\n",
    "What I suggest you do is watch the lecture up to the point where we start looking at problems, then switch to going through the slides yourself. Try to fix the error in the notebook, then refer to the slides when you get stuck. If one of the fixes doesn't make sense, jump to that bit in the lecture video and hopefully my explanation will help!"
   ],
   "cell_type": "markdown",
   "metadata": {}
  },
  {
   "source": [
    "# Example 1\n",
    "Timestamp: 12:30\n"
   ],
   "cell_type": "markdown",
   "metadata": {}
  },
  {
   "cell_type": "code",
   "execution_count": null,
   "metadata": {},
   "outputs": [],
   "source": [
    "a = 1\n",
    "b = 2\n",
    "c = 3\n",
    "\n",
    "print(d)"
   ]
  },
  {
   "source": [
    "# Example 2\n",
    "\n",
    "Timestamp: 13:33"
   ],
   "cell_type": "markdown",
   "metadata": {}
  },
  {
   "cell_type": "code",
   "execution_count": null,
   "metadata": {},
   "outputs": [],
   "source": [
    "a = [1,2,3]\n",
    "\n",
    "print(a[3])"
   ]
  },
  {
   "source": [
    "# Example 3\n",
    "\n",
    "Timestamp: 14:37"
   ],
   "cell_type": "markdown",
   "metadata": {}
  },
  {
   "cell_type": "code",
   "execution_count": null,
   "metadata": {},
   "outputs": [],
   "source": [
    "for i in range(0, 5):\n",
    "    print(i)\n",
    "     print(i+1)"
   ]
  },
  {
   "source": [
    "# Example 4\n",
    "\n",
    "Timestamp: 15:33"
   ],
   "cell_type": "markdown",
   "metadata": {}
  },
  {
   "cell_type": "code",
   "execution_count": null,
   "metadata": {},
   "outputs": [],
   "source": [
    "a = [1,2,3,4]\n",
    "a.fliplr()\n",
    "print(a)"
   ]
  },
  {
   "source": [
    "# Example 5\n",
    "\n",
    "Timestamp: 17:20"
   ],
   "cell_type": "markdown",
   "metadata": {}
  },
  {
   "cell_type": "code",
   "execution_count": null,
   "metadata": {},
   "outputs": [],
   "source": [
    "a = \"Number: \"\n",
    "b = 7\n",
    "\n",
    "print(a+b)"
   ]
  },
  {
   "source": [
    "# Example 6\n",
    "\n",
    "Timestamp: 18:49"
   ],
   "cell_type": "markdown",
   "metadata": {}
  },
  {
   "cell_type": "code",
   "execution_count": null,
   "metadata": {},
   "outputs": [],
   "source": [
    "def myfunction(a,b):\n",
    "    print(a,b)\n",
    "\n",
    "myfunction(1,2,3)"
   ]
  },
  {
   "source": [
    "# Example 7\n",
    "\n",
    "Timestamp: 20:51"
   ],
   "cell_type": "markdown",
   "metadata": {}
  },
  {
   "cell_type": "code",
   "execution_count": null,
   "metadata": {},
   "outputs": [],
   "source": [
    "with open(\"a.txt\") as a:\n",
    "    for line in a:\n",
    "        print(line)"
   ]
  },
  {
   "source": [
    "# Example 8\n",
    "\n",
    "Timestamp: 21:51"
   ],
   "cell_type": "markdown",
   "metadata": {}
  },
  {
   "cell_type": "code",
   "execution_count": null,
   "metadata": {},
   "outputs": [],
   "source": [
    "a = [1,2,3]\n",
    "for i in a\n",
    "    print(i)"
   ]
  },
  {
   "source": [
    "# Example 9\n",
    "\n",
    "Timestamp: 23:14"
   ],
   "cell_type": "markdown",
   "metadata": {}
  },
  {
   "cell_type": "code",
   "execution_count": null,
   "metadata": {},
   "outputs": [],
   "source": [
    "from = \"a\"\n",
    "to = \"b\"\n",
    "\n",
    "print(from, to)"
   ]
  },
  {
   "source": [
    "# Example 10\n",
    "\n",
    "Timestamp: 24:43"
   ],
   "cell_type": "markdown",
   "metadata": {}
  },
  {
   "cell_type": "code",
   "execution_count": null,
   "metadata": {},
   "outputs": [],
   "source": [
    "i = 4\n",
    "if i = 4:\n",
    "    print(\"Ok\")"
   ]
  },
  {
   "source": [
    "At this point, jump back to the lecture, around timestamp 26:04 for a bit of explanation about the next few examples"
   ],
   "cell_type": "markdown",
   "metadata": {}
  },
  {
   "source": [
    "The following examples are semantic or logical errors. Try running the code, it should 'work' but will produce the wrong answer. See if you can figure out how to fix it...\n",
    "\n",
    "\n",
    "# Example 11\n",
    "\n",
    "Timestamp: 31:39"
   ],
   "cell_type": "markdown",
   "metadata": {}
  },
  {
   "cell_type": "code",
   "execution_count": null,
   "metadata": {},
   "outputs": [],
   "source": [
    "a = 5\n",
    "b = 2\n",
    "mean = a+b/2\n",
    "print(mean)"
   ]
  },
  {
   "source": [
    "# Example 12\n",
    "\n",
    "Timestamp: 34:35"
   ],
   "cell_type": "markdown",
   "metadata": {}
  },
  {
   "cell_type": "code",
   "execution_count": null,
   "metadata": {},
   "outputs": [],
   "source": [
    "a = [1,2,3,4,5]\n",
    "a = a.reverse()\n",
    "\n",
    "print(a)"
   ]
  },
  {
   "source": [
    "# Example 13\n",
    "\n",
    "Timestamp: 36:33 "
   ],
   "cell_type": "markdown",
   "metadata": {}
  },
  {
   "cell_type": "code",
   "execution_count": null,
   "metadata": {},
   "outputs": [],
   "source": [
    "# print 1 to 10\n",
    "for i in range(1, 10):\n",
    "    print(i)"
   ]
  },
  {
   "source": [
    "There is a little bit more info/advice at the end of the video, timestamp 37:59, which I suggest you watch. It includes a little bit of information about the afternoon practical."
   ],
   "cell_type": "markdown",
   "metadata": {}
  }
 ]
}