{
 "cells": [
  {
   "attachments": {},
   "cell_type": "markdown",
   "metadata": {},
   "source": [
    "# Notebook Index\n",
    "\n",
    "These links should work to open the notebooks for each lecture in colab"
   ]
  },
  {
   "attachments": {},
   "cell_type": "markdown",
   "metadata": {},
   "source": [
    "The days refer to how the course was originally constructed - the order/bits you do may be slightly different\n",
    "\n",
    "## Day 1\n",
    "Introduction to python - practise some basics\n",
    "\n",
    "[Day 1 Reference notebook](Day1/PythonBasicsReference.ipynb)\n",
    "\n",
    "[Day 1 Assignment notebook](Day1/Day1_practical.ipynb)\n",
    "\n",
    "## Day 2\n",
    "Start doing some image processing!\n",
    "\n",
    "[Day 2 Slide accompaniment](Day2/ImageProcessingInPython.ipynb)\n",
    "\n",
    "_This may or may not be applicable..._\n",
    "\n",
    "Start doing some image registration in python (Assessed)\n",
    "\n",
    "[Day 2 Assignment notebook](Day2/Day2_practical.ipynb)\n",
    "\n",
    "## Day 3\n",
    "Automate the image registration with an optimiser (Assessed)\n",
    "[Day 3 Slide accompaniment](Day3/BreakingPython.ipynb)\n",
    "\n",
    "[Day 3 Assignment notebook](Day3/Day3_practical.ipynb)\n",
    "\n",
    "## Day 4\n",
    "[Day 4 Slide accompaniment](Day4/AdvancedImageProcessing.ipynb)\n",
    "\n",
    "Try out using more advanced registration techniques (non-assessed)\n",
    "\n",
    "[Day 4 Advanced registration notebook](Day4/Advanced_registration.ipynb)\n",
    "\n",
    "\n"
   ]
  }
 ],
 "metadata": {
  "language_info": {
   "codemirror_mode": {
    "name": "ipython",
    "version": 3
   },
   "file_extension": ".py",
   "mimetype": "text/x-python",
   "name": "python",
   "nbconvert_exporter": "python",
   "pygments_lexer": "ipython3",
   "version": 3
  },
  "orig_nbformat": 2
 },
 "nbformat": 4,
 "nbformat_minor": 2
}
