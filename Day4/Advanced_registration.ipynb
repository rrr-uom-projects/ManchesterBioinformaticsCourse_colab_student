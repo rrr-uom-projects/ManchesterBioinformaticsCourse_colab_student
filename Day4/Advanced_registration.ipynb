{
 "cells": [
  {
   "cell_type": "markdown",
   "metadata": {},
   "source": [
    "# Image registration\n",
    "## Introduction\n",
    "Image registration is the process of aligning two images.  It involves moving (or deforming) one image, i.e. the floating image, such that it matches the best to a reference or fixed image.  In the this notebook, we will see how to perform image registration using the insight toolkit (ITK).  We will use a simplified version, SimpleITK."
   ]
  },
  {
   "cell_type": "markdown",
   "metadata": {},
   "source": [
    "# Preparatory steps\n",
    "Let's start setting up the notebook:"
   ]
  },
  {
   "cell_type": "code",
   "execution_count": null,
   "metadata": {},
   "outputs": [],
   "source": [
    "## install simpleITK [if needed]\n",
    "!pip install simpleitk\n",
    "\n",
    "## download data and extract to cloud machine\n",
    "import zipfile\n",
    "!wget -nc https://github.com/rrr-uom-projects/ManchesterBioinformaticsCourse_colab_student/tree/main/Day4/data.zip -O ./data.zip\n",
    "%matplotlib inline\n",
    "\n",
    "import zipfile\n",
    "zfile = zipfile.ZipFile('./data.zip', 'r')   # unzip the directory \n",
    "zfile.extractall()\n",
    "for d in zfile.namelist():   # d = directory\n",
    "    print('directory and files: ', d)\n"
   ]
  },
  {
   "cell_type": "markdown",
   "metadata": {},
   "source": [
    "# Let's python!"
   ]
  },
  {
   "cell_type": "markdown",
   "metadata": {},
   "source": [
    "Let's import all libraries we need:"
   ]
  },
  {
   "cell_type": "code",
   "execution_count": null,
   "metadata": {},
   "outputs": [],
   "source": [
    "import SimpleITK as sitk        # for the registration\n",
    "import os                       # for file management\n",
    "import os.path                  # for file management\n",
    "import matplotlib.pyplot as plt # for plotting the metric\n",
    "from ipywidgets import interact, fixed  #for plotting the registered image\n",
    "from numpy import sign, zeros, max\n",
    "from IPython.display import clear_output"
   ]
  },
  {
   "cell_type": "markdown",
   "metadata": {},
   "source": [
    "## Write some auxiliary functions\n",
    "\n",
    "We will be plotting the metric of the function as the registration is doing its job. For that we need to set up some functions:"
   ]
  },
  {
   "cell_type": "code",
   "execution_count": null,
   "metadata": {},
   "outputs": [],
   "source": [
    "def start_plot():\n",
    "    global metric_values, optimiser_iterations\n",
    "    optimiser_iterations = []\n",
    "    metric_values = []\n",
    "    if runningInColab == False:\n",
    "        global fig, ax\n",
    "        fig = plt.figure()\n",
    "        ax = fig.add_subplot(111)\n",
    "        plt.ion()\n",
    "        fig.show()\n",
    "        fig.canvas.draw()\n",
    "    \n",
    "def plot_values(registration_method):\n",
    "    global metric_values, optimiser_iterations\n",
    "    optimiser_iterations.append(registration_method.GetOptimizerIteration())\n",
    "    metric_values.append(registration_method.GetMetricValue())                                       \n",
    "    # Clear and plot the similarity metric values\n",
    "    if runningInColab == False:\n",
    "        global fig, ax\n",
    "    else:\n",
    "        fig = plt.figure()\n",
    "        ax = fig.add_subplot(111)\n",
    "        clear_output()\n",
    "        \n",
    "    ax.clear()\n",
    "    #ax.plot(optimiser_iterations, metric_values, 'b.')\n",
    "    ax.plot( metric_values, 'b.')\n",
    "    plt.xlabel('Iteration Number',fontsize=12)\n",
    "    plt.ylabel('Metric Value',fontsize=12)\n",
    "    ax.set_ylim([-1, 0])\n",
    "    if( runningInColab ):\n",
    "        plt.show();\n",
    "    else:\n",
    "        fig.canvas.draw()\n",
    "    \n",
    "def command_multires_iterations():\n",
    "    print(\"    > ---- Resolution change ----\")\n"
   ]
  },
  {
   "cell_type": "markdown",
   "metadata": {},
   "source": [
    "Let's also define a function to visualize the images after registration."
   ]
  },
  {
   "cell_type": "code",
   "execution_count": null,
   "metadata": {},
   "outputs": [],
   "source": [
    "# Callback invoked by the IPython interact method for scrolling and modifying the alpha blending\n",
    "# of an image stack of two images that occupy the same physical space. \n",
    "def display_images( referenceImage, floatingAfterResample):\n",
    "    ref = sitk.GetArrayFromImage(referenceImage)\n",
    "    flo = sitk.GetArrayFromImage(floatingAfterResample)\n",
    "\n",
    "    rgbimg = zeros((*ref.shape,3))\n",
    "    rgbimg[...,0]=ref/max(ref);\n",
    "    rgbimg[...,1]=flo/max(ref);\n",
    "    rgbimg[...,2]=ref/max(ref);\n",
    "    \n",
    "    figi = plt.figure(num=None, figsize=(12, 4), dpi=80)\n",
    "    axi = figi.add_subplot(131)\n",
    "    axi.imshow(rgbimg[:,64,:,:]) # change 64 to show a different coronal slice\n",
    "    axi.axis('off'); axi.invert_yaxis()\n",
    "    axi = figi.add_subplot(132)\n",
    "    axi.imshow(rgbimg[50,:,:,:]) # change 50 to show a different axial slice\n",
    "    axi.axis('off')\n",
    "    axi = figi.add_subplot(133)\n",
    "    axi.imshow(rgbimg[:,:,64,:]) # change 64 to show a different saggittal slice\n",
    "    axi.axis('off'); axi.invert_yaxis()\n",
    "    if runningInColab == False:\n",
    "        plt.ion()\n",
    "    figi.show()"
   ]
  },
  {
   "cell_type": "markdown",
   "metadata": {},
   "source": [
    "Last, but not least, let's define the function that applies a given tranformation (affine or non-rigid) to an image. "
   ]
  },
  {
   "cell_type": "code",
   "execution_count": null,
   "metadata": {},
   "outputs": [],
   "source": [
    "def resample_image_with_Tx(referenceImage, Tx, iimg):\n",
    "    resampler = sitk.ResampleImageFilter()\n",
    "    resampler.SetReferenceImage(referenceImage);\n",
    "    resampler.SetInterpolator(sitk.sitkLinear)\n",
    "    resampler.SetDefaultPixelValue(0)\n",
    "    resampler.SetTransform(Tx)\n",
    "    oimg = resampler.Execute(iimg)\n",
    "    return oimg"
   ]
  },
  {
   "attachments": {},
   "cell_type": "markdown",
   "metadata": {},
   "source": [
    "# Let's set the ball rolling.  \n",
    "\n",
    "Let's read the reference image.  In this case, it is the CT of the reference patient.  We chose 0002 and made a mask for it."
   ]
  },
  {
   "cell_type": "code",
   "execution_count": null,
   "metadata": {},
   "outputs": [],
   "source": [
    "imgfolder = \"./data/DownsampledImages/\"  \n",
    "dataDir = imgfolder\n",
    "nrrOutput = imgfolder + \"../warpedImgs/\"\n",
    "\n",
    "referenceImage = sitk.ReadImage(imgfolder + \"../0002.nii\", sitk.sitkFloat32)\n",
    "referenceMask = sitk.ReadImage(imgfolder + \"../0002_mask_ds.nii\")\n",
    "\n",
    "# visualise the reference image! \n",
    "display_images(referenceImage,referenceImage)"
   ]
  },
  {
   "cell_type": "markdown",
   "metadata": {},
   "source": [
    "Now, we need to read the floaging image. If the image is acquired in a different direction than the reference image, the image is flipped.  "
   ]
  },
  {
   "cell_type": "code",
   "execution_count": null,
   "metadata": {},
   "outputs": [],
   "source": [
    "img = \"0004.nii\""
   ]
  },
  {
   "cell_type": "code",
   "execution_count": null,
   "metadata": {},
   "outputs": [],
   "source": [
    "floating = sitk.ReadImage(os.path.join(dataDir, img), sitk.sitkFloat32)\n",
    "\n",
    "# Flip if needed HFS vs FFS\n",
    "flipped = False\n",
    "if( sign(floating.GetDirection()[-1]) != sign(referenceImage.GetDirection()[-1]) ):\n",
    "    print(\"(i) Floating image was flipped\")\n",
    "    floating = sitk.Flip(floating, [False, False, True])\n",
    "    flipped = True\n",
    "display_images(floating,floating)"
   ]
  },
  {
   "cell_type": "markdown",
   "metadata": {},
   "source": [
    "## Affine registration\n",
    "The first step to register any pair of images is to globally align them. This is achieved using Rigid or Affine registration.\n",
    "\n",
    "In this function, all elements for an affine registration will be set-up. The elements include:\n",
    "-  The **metric**:  This element is used to determine how similar two images are.  In this example, we will use the (negative) normalized cross corelation.\n",
    "-  The **interpolator**: we use a linear interpolator.  A good balance between speed and performance. \n",
    "-  The **reference mask**: to filter the voxels in the image that matter for the registation.  The mask we will use was semi-automatically created, and focuses on the head and neck area, ignoring the shoulders and thorax.\n",
    "-  The **optimiser**: we chose regular step grandient descent.  Change the values of the arguments to see how fast/slow the optimiser converges (if it does!)\n",
    "-  The **transform**:  we chose the 'Similarity 3D Transform'.  This transforms allows translation, rotation and scaling. The choice of the transform defines whether the registation is affine, rigid or non-rigid!  Notice we are optimising 7 parameters, 3 translations, 3 rotations and scaling.\n",
    "\n",
    "This function returns the transform parameters that minimised the metric the most!\n",
    "\n",
    "Check here for extra info: https://simpleitk.readthedocs.io/en/master/registrationOverview.html\n"
   ]
  },
  {
   "cell_type": "code",
   "execution_count": null,
   "metadata": {},
   "outputs": [],
   "source": [
    "def run_affine_registration(referenceImage, referenceMask, floatingImage, printInfo=True):\n",
    "    R = sitk.ImageRegistrationMethod()\n",
    "    R.SetMetricAsCorrelation()\n",
    "    R.SetInterpolator(sitk.sitkLinear)\n",
    "    R.SetMetricFixedMask(referenceMask)\n",
    "    \n",
    "    R.SetOptimizerAsRegularStepGradientDescent(learningRate=2.0,\n",
    "                                               minStep=1e-2,\n",
    "                                               numberOfIterations=200,\n",
    "                                               gradientMagnitudeTolerance=1e-2,\n",
    "                                               maximumStepSizeInPhysicalUnits = 10)\n",
    "    R.SetOptimizerScalesFromIndexShift()\n",
    "    tx = sitk.CenteredTransformInitializer(referenceImage, floating, sitk.Similarity3DTransform() )\n",
    "    print(\"Initial Number of Parameters: {0}\".format(tx.GetNumberOfParameters()))\n",
    "    R.SetInitialTransform(tx)\n",
    "    R.AddCommand(sitk.sitkIterationEvent, lambda: plot_values(R))\n",
    "    outTx = R.Execute(referenceImage, floatingImage)\n",
    "    if printInfo:\n",
    "        print(\"    >> Optimizer stop condition: {0}\".format(R.GetOptimizerStopConditionDescription()))\n",
    "        print(\"    >> Iteration: {0}\".format(R.GetOptimizerIteration()))\n",
    "        print(\"    >> Metric value: {0}\".format(R.GetMetricValue()))\n",
    "    return outTx"
   ]
  },
  {
   "cell_type": "markdown",
   "metadata": {},
   "source": [
    "Let's run the function with the floating and reference images, and then resample the floating image in the same grid as the reference image (floatingAfterAffine)."
   ]
  },
  {
   "cell_type": "code",
   "execution_count": null,
   "metadata": {},
   "outputs": [],
   "source": [
    "# STEP 2: register the images allowing only rotations, translations and scaling\n",
    "print(\"---- Affine part ----\")\n",
    "start_plot()\n",
    "affineTx = run_affine_registration(referenceImage, referenceMask, floating )"
   ]
  },
  {
   "cell_type": "code",
   "execution_count": null,
   "metadata": {},
   "outputs": [],
   "source": [
    "print(\"---- Resampling image ----\")\n",
    "floatingAfterAffine = resample_image_with_Tx(referenceImage, affineTx, floating)\n",
    "# visualize the images\n",
    "display_images( referenceImage, floatingAfterAffine)"
   ]
  },
  {
   "cell_type": "markdown",
   "metadata": {},
   "source": [
    "## Non-rigid Registration\n",
    "Non-rigid registration, also known as deformable registration, helps to fine-tune the image alignment by allowing the image to be deformed. \n",
    "\n",
    "Similarly to the affine registration, all elements are defined in this function.  Additionally, we allow for a multi-resolution approach to speed-up and improve the registration results.\n",
    "\n",
    "The elements include:\n",
    "-  The **metric** [same as in affine]: This element is used to determine how similar two images are.  We will use the (negative) normalized cross corelation again.\n",
    "-  The **interpolator** [same as in affine]: we use a linear interpolator.  A good balance between speed and performance. \n",
    "-  The **reference mask** [same as in affine]: to filter the voxels in the image that matter for the registation.  The mask we will use was semi-automatically created, and focuses on the head and neck area, ignoring the shoulders and thorax.\n",
    "\n",
    "-  The **optimiser**: we chose a different optimiser to allow the many parameters be optimised in a decent time.  Try the Limited memory Broyden Fletcher Goldfarb Shannon minimization (LBFGSB).\n",
    "-  The **transform**:  we chose the BSpline transform. It uses a sparse set of control points to control a free form deformation. This choice of the transform defines the registation to be non-rigid!  Notice we are optimising many more parameters than the affine registration... How many?\n",
    "- The **multi-resolution scheme**: Multiresolution constructs an 'image pyramid', were each level is smaller than the next.  This helps the registration evade local minima, and allows it to run faster (at least in theory) by allowing the optimiser converge faster. It is defined by the ShrinkFactorPerLevel and SmoothingSigmaPerLevel.  The size of the argument array defines how many levels are to be used. Note that this only happens if the argument UseMultiResolution is set to true.\n",
    "\n",
    "This function returns the transform parameters that minimised the metric the most!  \n",
    "\n",
    "Check here for extra info: https://simpleitk.readthedocs.io/en/master/registrationOverview.html"
   ]
  },
  {
   "cell_type": "code",
   "execution_count": null,
   "metadata": {},
   "outputs": [],
   "source": [
    "def run_nonrigid_registration(referenceImage, referenceMask, floatingImage, useMultiResolution=True, printInfo=True):\n",
    "    R = sitk.ImageRegistrationMethod()\n",
    "    R.SetMetricAsCorrelation()\n",
    "    R.SetInterpolator(sitk.sitkLinear)\n",
    "    R.SetMetricFixedMask(referenceMask)\n",
    "    \n",
    "\n",
    "    R.SetOptimizerAsGradientDescentLineSearch(5.0, 100,\n",
    "                                          convergenceMinimumValue=1e-4,\n",
    "                                          convergenceWindowSize=5)\n",
    "    # try a simpler optimiser?\n",
    "    #R.SetOptimizerAsLBFGSB(gradientConvergenceTolerance=1e-3,\n",
    "    #                   numberOfIterations=100,\n",
    "    #                   maximumNumberOfCorrections=5,\n",
    "    #                   maximumNumberOfFunctionEvaluations=1000,\n",
    "    #                   costFunctionConvergenceFactor=1e+7)\n",
    "\n",
    "    \n",
    "    transformDomainMeshSize=[8]*floatingImage.GetDimension()\n",
    "    tx = sitk.BSplineTransformInitializer(referenceImage, transformDomainMeshSize )\n",
    "    print(\"Initial Number of Parameters: {0}\".format(tx.GetNumberOfParameters()))\n",
    "    R.SetInitialTransform(tx, True)\n",
    "    R.AddCommand(sitk.sitkIterationEvent, lambda: plot_values(R))\n",
    "\n",
    "    if useMultiResolution:\n",
    "        R.SetShrinkFactorsPerLevel([8,4,2,1])\n",
    "        R.SetSmoothingSigmasPerLevel([4,2,1,0])\n",
    "        R.AddCommand(sitk.sitkMultiResolutionIterationEvent, lambda: command_multires_iterations() )\n",
    "    \n",
    "    outTx = R.Execute(referenceImage, floatingImage)\n",
    "\n",
    "    if printInfo:\n",
    "        print(\"    >> Optimizer stop condition: {0}\".format(R.GetOptimizerStopConditionDescription()))\n",
    "        print(\"    >> Iteration: {0}\".format(R.GetOptimizerIteration()))\n",
    "        print(\"    >> Metric value: {0}\".format(R.GetMetricValue()))\n",
    "\n",
    "    return outTx"
   ]
  },
  {
   "cell_type": "markdown",
   "metadata": {},
   "source": [
    "Let's chose whether we want to do multiresolution and run the function with the reference image and the floating image (after affine registration, floatingAfterAffine).  Then, let's resample it with the new pairs of parameters (nrrTx), and display it."
   ]
  },
  {
   "cell_type": "code",
   "execution_count": null,
   "metadata": {},
   "outputs": [],
   "source": [
    "# STEP 3: register the images non-rigidly\n",
    "useMultiRes = False\n",
    "print(\"---- Non-Rigid part ----\")\n",
    "start_plot()\n",
    "nrrTx = run_nonrigid_registration(referenceImage, referenceMask, floatingAfterAffine, useMultiRes )\n",
    "# print(nrrTx)"
   ]
  },
  {
   "cell_type": "code",
   "execution_count": null,
   "metadata": {},
   "outputs": [],
   "source": [
    "# Let's resample the image with the B-Spline found\n",
    "print(\"---- Resampling image ----\")\n",
    "out = resample_image_with_Tx(referenceImage, nrrTx, floatingAfterAffine)\n",
    "display_images( referenceImage, out)"
   ]
  },
  {
   "cell_type": "markdown",
   "metadata": {},
   "source": [
    "# Try:\n",
    "1. Try using multi-resolution in the non-rigid registration part.  Why does the metric 'jump' up? Are the results better?"
   ]
  },
  {
   "cell_type": "code",
   "execution_count": null,
   "metadata": {},
   "outputs": [],
   "source": []
  },
  {
   "cell_type": "markdown",
   "metadata": {},
   "source": [
    "2. The shoulders are not looking great.  Why?  Try the non-rigid part without the mask. Why is the initial metric not the same as the final of the affine?"
   ]
  },
  {
   "cell_type": "code",
   "execution_count": null,
   "metadata": {},
   "outputs": [],
   "source": []
  },
  {
   "cell_type": "markdown",
   "metadata": {},
   "source": [
    "3. Could you add multi-resolution to the affine registration?"
   ]
  },
  {
   "cell_type": "code",
   "execution_count": null,
   "metadata": {},
   "outputs": [],
   "source": []
  }
 ],
 "metadata": {
  "kernelspec": {
   "display_name": "base",
   "language": "python",
   "name": "python3"
  },
  "language_info": {
   "codemirror_mode": {
    "name": "ipython",
    "version": 3
   },
   "file_extension": ".py",
   "mimetype": "text/x-python",
   "name": "python",
   "nbconvert_exporter": "python",
   "pygments_lexer": "ipython3",
   "version": "3.7.1"
  },
  "vscode": {
   "interpreter": {
    "hash": "146895204c390315d0e73c4ea25335f5fcb1e6266618dfaddd5ff520976b1cda"
   }
  }
 },
 "nbformat": 4,
 "nbformat_minor": 2
}
